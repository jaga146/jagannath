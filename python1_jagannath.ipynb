{
  "nbformat": 4,
  "nbformat_minor": 0,
  "metadata": {
    "colab": {
      "name": "python1.jagannath",
      "provenance": [],
      "authorship_tag": "ABX9TyON85yUAi4D5jK9n0CStCli",
      "include_colab_link": true
    },
    "kernelspec": {
      "name": "python3",
      "display_name": "Python 3"
    },
    "language_info": {
      "name": "python"
    }
  },
  "cells": [
    {
      "cell_type": "markdown",
      "metadata": {
        "id": "view-in-github",
        "colab_type": "text"
      },
      "source": [
        "<a href=\"https://colab.research.google.com/github/jaga146/jagannath/blob/main/python1_jagannath.ipynb\" target=\"_parent\"><img src=\"https://colab.research.google.com/assets/colab-badge.svg\" alt=\"Open In Colab\"/></a>"
      ]
    },
    {
      "cell_type": "code",
      "metadata": {
        "colab": {
          "base_uri": "https://localhost:8080/"
        },
        "id": "KIGGgyoWV9JW",
        "outputId": "d27cd1f9-c38e-442a-c32f-32dcbb05f68c"
      },
      "source": [
        "print(type(7))\n",
        "print(type(3.0))\n",
        "\n",
        "x, y = 11, 5\n",
        "print(x, y)\n",
        "\n",
        "x, y = y, x\n",
        "print(x, y)"
      ],
      "execution_count": null,
      "outputs": [
        {
          "output_type": "stream",
          "text": [
            "<class 'int'>\n",
            "<class 'float'>\n",
            "11 5\n",
            "5 11\n"
          ],
          "name": "stdout"
        }
      ]
    },
    {
      "cell_type": "code",
      "metadata": {
        "colab": {
          "base_uri": "https://localhost:8080/"
        },
        "id": "AkBLGkoDWfX3",
        "outputId": "537ce5fe-ec0e-454e-c6cf-cc1636e6752c"
      },
      "source": [
        "divisor, divident = 7, 3\n",
        "ans = divident / divisor\n",
        "print(ans)\n",
        "a, b, c, d = 9, 4, 8, 1\n",
        "\n",
        "ans = a + b * c / d\n",
        "print(ans)\n",
        "\n",
        "# ** is power\n",
        "exp = a ** b\n",
        "print(exp)\n",
        "\n",
        "mod = b % a\n",
        "print(mod)\n",
        "\n",
        "# // returns integer division result\n",
        "intDiv = d // a\n",
        "# / returns float division result\n",
        "div = d / a\n",
        "print(div, intDiv)"
      ],
      "execution_count": null,
      "outputs": [
        {
          "output_type": "stream",
          "text": [
            "0.42857142857142855\n",
            "41.0\n",
            "6561\n",
            "4\n",
            "0.1111111111111111 0\n"
          ],
          "name": "stdout"
        }
      ]
    },
    {
      "cell_type": "code",
      "metadata": {
        "colab": {
          "base_uri": "https://localhost:8080/"
        },
        "id": "aSCtIATQZwmJ",
        "outputId": "334cc270-768b-485c-80ff-4f2859c58bbf"
      },
      "source": [
        "num = 73\n",
        "print(num * 2)\n",
        "print(num)\n",
        "\n",
        "num *= 2\n",
        "print(num)"
      ],
      "execution_count": null,
      "outputs": [
        {
          "output_type": "stream",
          "text": [
            "146\n",
            "73\n",
            "146\n"
          ],
          "name": "stdout"
        }
      ]
    },
    {
      "cell_type": "code",
      "metadata": {
        "colab": {
          "base_uri": "https://localhost:8080/",
          "height": 228
        },
        "id": "K5WAt6IPaNTk",
        "outputId": "358e88da-cde5-4616-c38d-d44f8008d552"
      },
      "source": [
        "'''\n",
        "bool\n",
        "int\n",
        "str\n",
        "list\n",
        "dict\n",
        "'''\n",
        "\n",
        "#bool\n",
        "is_active = is_active\n",
        "inactive = not is_active\n",
        "print(is_active)\n",
        "print(not is_active)\n",
        "print(inactive)\n",
        "print(not inactive)\n",
        "\n",
        "#str\n",
        "some_string = \"hello i am jaga!\"\n",
        "print(some_string)\n",
        "\n",
        "#list\n",
        "my_number = [1,2,3,4]\n",
        "print(my_number)\n",
        "print(my_number[1])\n",
        "\n",
        "#dict\n",
        "my_name = {'first_name': \"bibhu\", 'middle_name': \"prasad\", 'last_name': \"das\"}\n",
        "print(my_name)\n",
        "print(my_name['first_name'])\n",
        "print(my_name['middle_name'])\n",
        "print(my_name['last_name'])"
      ],
      "execution_count": 4,
      "outputs": [
        {
          "output_type": "error",
          "ename": "NameError",
          "evalue": "ignored",
          "traceback": [
            "\u001b[0;31m---------------------------------------------------------------------------\u001b[0m",
            "\u001b[0;31mNameError\u001b[0m                                 Traceback (most recent call last)",
            "\u001b[0;32m<ipython-input-4-38bb463c7545>\u001b[0m in \u001b[0;36m<module>\u001b[0;34m()\u001b[0m\n\u001b[1;32m      8\u001b[0m \u001b[0;34m\u001b[0m\u001b[0m\n\u001b[1;32m      9\u001b[0m \u001b[0;31m#bool\u001b[0m\u001b[0;34m\u001b[0m\u001b[0;34m\u001b[0m\u001b[0;34m\u001b[0m\u001b[0m\n\u001b[0;32m---> 10\u001b[0;31m \u001b[0mis_active\u001b[0m \u001b[0;34m=\u001b[0m \u001b[0mis_active\u001b[0m\u001b[0;34m\u001b[0m\u001b[0;34m\u001b[0m\u001b[0m\n\u001b[0m\u001b[1;32m     11\u001b[0m \u001b[0minactive\u001b[0m \u001b[0;34m=\u001b[0m \u001b[0;32mnot\u001b[0m \u001b[0mis_active\u001b[0m\u001b[0;34m\u001b[0m\u001b[0;34m\u001b[0m\u001b[0m\n\u001b[1;32m     12\u001b[0m \u001b[0mprint\u001b[0m\u001b[0;34m(\u001b[0m\u001b[0mis_active\u001b[0m\u001b[0;34m)\u001b[0m\u001b[0;34m\u001b[0m\u001b[0;34m\u001b[0m\u001b[0m\n",
            "\u001b[0;31mNameError\u001b[0m: name 'is_active' is not defined"
          ]
        }
      ]
    },
    {
      "cell_type": "code",
      "metadata": {
        "colab": {
          "base_uri": "https://localhost:8080/"
        },
        "id": "vSOaLvAfak0l",
        "outputId": "b46fd2d1-178b-4ead-a952-1e7f7779e83f"
      },
      "source": [
        "game_over = True\n",
        "print(game_over)\n",
        "\n",
        "game_over = \"Yes, it's over!\"\n",
        "print(game_over)\n",
        "\n",
        "game_over = 22/7\n",
        "print(game_over)\n",
        "\n",
        "#some is anything\n",
        "game_over = \"some\"\n",
        "print(game_over)\n",
        "print(type(game_over))"
      ],
      "execution_count": null,
      "outputs": [
        {
          "output_type": "stream",
          "text": [
            "True\n",
            "Yes, it's over!\n",
            "3.142857142857143\n",
            "some\n",
            "<class 'str'>\n"
          ],
          "name": "stdout"
        }
      ]
    },
    {
      "cell_type": "code",
      "metadata": {
        "colab": {
          "base_uri": "https://localhost:8080/"
        },
        "id": "CevjbL0IggKQ",
        "outputId": "c7858171-e948-4cc4-d2be-9d259817bd34"
      },
      "source": [
        "single_qoute = 'john'\n",
        "double_qoute = \"jhon\"\n",
        "print(single_qoute)\n",
        "print(double_qoute)\n",
        "\n",
        "qoute = 'jhon said, \"hello there!\"'\n",
        "print(qoute)\n",
        "qoute = \"jhon said, 'hello there'\"\n",
        "print(qoute)\n",
        "\n",
        "qoute = \"jhon said, \\\"hello there!\\\"\"\n",
        "print(qoute)\n",
        "\n",
        "#string concatenation\n",
        "username = \"jhon\"\n",
        "msg = \"Hello \" + username\n",
        "print(msg)\n",
        "\n",
        "#Formatting String\n",
        "name = \"jhon\"\n",
        "msg = f\"Hello Mr. {name} Welcome!\"\n",
        "msg2 = \"Hello Mr. {} Welcome!\".format(name)\n",
        "print(msg)\n",
        "print(msg2)"
      ],
      "execution_count": null,
      "outputs": [
        {
          "output_type": "stream",
          "text": [
            "john\n",
            "jhon\n",
            "jhon said, \"hello there!\"\n",
            "jhon said, 'hello there'\n",
            "jhon said, \"hello there!\"\n",
            "Hello jhon\n",
            "Hello Mr. jhon Welcome!\n",
            "Hello Mr. jhon Welcome!\n"
          ],
          "name": "stdout"
        }
      ]
    },
    {
      "cell_type": "code",
      "metadata": {
        "colab": {
          "base_uri": "https://localhost:8080/"
        },
        "id": "twvVdpiUhumR",
        "outputId": "5fce31a0-61f9-4e64-e4c0-e84db9357415"
      },
      "source": [
        "intx = 10.7\n",
        "print(type(intx))\n",
        "\n",
        "floatx = int(intx)\n",
        "print(floatx)"
      ],
      "execution_count": null,
      "outputs": [
        {
          "output_type": "stream",
          "text": [
            "<class 'float'>\n",
            "10\n"
          ],
          "name": "stdout"
        }
      ]
    },
    {
      "cell_type": "code",
      "metadata": {
        "id": "fRhjnuH4kNq2",
        "colab": {
          "base_uri": "https://localhost:8080/"
        },
        "outputId": "74a5077f-061c-4999-a3c4-85b852afb645"
      },
      "source": [
        "print(\"How many KM did you cycle today?\")\n",
        "# by default input return string input\n",
        "kms = float(input())\n",
        "miles = kms/1.61\n",
        "# precisions\n",
        "miles = round(miles, 3)\n",
        "print(f\"Your {kms} KM is {miles} Miles\")\n"
      ],
      "execution_count": 5,
      "outputs": [
        {
          "output_type": "stream",
          "text": [
            "How many KM did you cycle today?\n",
            "6.5\n",
            "Your 6.5 KM is 4.037 Miles\n"
          ],
          "name": "stdout"
        }
      ]
    },
    {
      "cell_type": "code",
      "metadata": {
        "id": "-IOh8Y5NqD3V"
      },
      "source": [
        ""
      ],
      "execution_count": null,
      "outputs": []
    }
  ]
}